{
  "nbformat": 4,
  "nbformat_minor": 0,
  "metadata": {
    "colab": {
      "provenance": [],
      "collapsed_sections": [
        "xzkCjI5ver5B",
        "U1y1TfGugrAP"
      ],
      "authorship_tag": "ABX9TyN6/MsIigVlC5Dq8DMjzGoM",
      "include_colab_link": true
    },
    "kernelspec": {
      "name": "python3",
      "display_name": "Python 3"
    },
    "language_info": {
      "name": "python"
    }
  },
  "cells": [
    {
      "cell_type": "markdown",
      "metadata": {
        "id": "view-in-github",
        "colab_type": "text"
      },
      "source": [
        "<a href=\"https://colab.research.google.com/github/Gabriel-Mza/dvdrental-1-gabriel-attilio/blob/main/Mi_primer_colab.ipynb\" target=\"_parent\"><img src=\"https://colab.research.google.com/assets/colab-badge.svg\" alt=\"Open In Colab\"/></a>"
      ]
    },
    {
      "cell_type": "markdown",
      "source": [],
      "metadata": {
        "id": "SpEAnyqzePhv"
      }
    },
    {
      "cell_type": "markdown",
      "source": [
        "<font color = 'DeepPink'>Clases Python</font>"
      ],
      "metadata": {
        "id": "I4X5NsBdiHAI"
      }
    },
    {
      "cell_type": "markdown",
      "source": [
        "# Prueba de color"
      ],
      "metadata": {
        "id": "T6lGh54Ih_op"
      }
    },
    {
      "cell_type": "markdown",
      "source": [
        "**#Clases de pyhton**\n"
      ],
      "metadata": {
        "id": "aKDRkFTseRbl"
      }
    },
    {
      "cell_type": "code",
      "source": [
        "X = 5"
      ],
      "metadata": {
        "id": "y45BBkfVlqCe"
      },
      "execution_count": null,
      "outputs": []
    },
    {
      "cell_type": "markdown",
      "source": [
        "*## Clase 1*"
      ],
      "metadata": {
        "id": "kvTEsE04elvX"
      }
    },
    {
      "cell_type": "markdown",
      "source": [
        "### Clase 1.1 = Suma"
      ],
      "metadata": {
        "id": "xzkCjI5ver5B"
      }
    },
    {
      "cell_type": "code",
      "source": [
        "2+2\n"
      ],
      "metadata": {
        "colab": {
          "base_uri": "https://localhost:8080/"
        },
        "id": "9mE5kqcygFhl",
        "outputId": "544868a6-7390-49f1-d81c-e5d3d3778fbc"
      },
      "execution_count": null,
      "outputs": [
        {
          "output_type": "execute_result",
          "data": {
            "text/plain": [
              "4"
            ]
          },
          "metadata": {},
          "execution_count": 2
        }
      ]
    },
    {
      "cell_type": "markdown",
      "source": [
        "## Clase 1.2 = Potencia"
      ],
      "metadata": {
        "id": "U1y1TfGugrAP"
      }
    },
    {
      "cell_type": "code",
      "source": [
        "2**3"
      ],
      "metadata": {
        "colab": {
          "base_uri": "https://localhost:8080/"
        },
        "id": "mhwIwBchgv7V",
        "outputId": "c43ae4ac-f259-41a5-93bb-fe202ead0d9f"
      },
      "execution_count": null,
      "outputs": [
        {
          "output_type": "execute_result",
          "data": {
            "text/plain": [
              "8"
            ]
          },
          "metadata": {},
          "execution_count": 4
        }
      ]
    },
    {
      "cell_type": "markdown",
      "source": [
        "## Clase 2"
      ],
      "metadata": {
        "id": "jKhinecve6xd"
      }
    },
    {
      "cell_type": "markdown",
      "source": [
        "##### Clase 2"
      ],
      "metadata": {
        "id": "HIdbq8m2e_B9"
      }
    },
    {
      "cell_type": "markdown",
      "source": [
        "$$y=\\frac{1}{x}$$"
      ],
      "metadata": {
        "id": "_YD43mGVpYtM"
      }
    },
    {
      "cell_type": "markdown",
      "source": [
        "## Clase 3"
      ],
      "metadata": {
        "id": "lM6TiNF-fdGX"
      }
    }
  ]
}